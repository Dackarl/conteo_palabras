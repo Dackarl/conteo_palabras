{
  "nbformat": 4,
  "nbformat_minor": 0,
  "metadata": {
    "colab": {
      "provenance": [],
      "mount_file_id": "1xXepV_NHj-IiMN8quqgIJO55XYjklpY-",
      "authorship_tag": "ABX9TyM7l7aebe49kqg5vHtBCaLo",
      "include_colab_link": true
    },
    "kernelspec": {
      "name": "python3",
      "display_name": "Python 3"
    },
    "language_info": {
      "name": "python"
    }
  },
  "cells": [
    {
      "cell_type": "markdown",
      "metadata": {
        "id": "view-in-github",
        "colab_type": "text"
      },
      "source": [
        "<a href=\"https://colab.research.google.com/github/Dackarl/conteo_palabras/blob/main/ACTIVIDAD_DE_CONTEO_DE_PALABRAS.ipynb\" target=\"_parent\"><img src=\"https://colab.research.google.com/assets/colab-badge.svg\" alt=\"Open In Colab\"/></a>"
      ]
    },
    {
      "cell_type": "markdown",
      "source": [
        "# CONTEO DE PALABRAS GENERAL CON PYSPARK"
      ],
      "metadata": {
        "id": "W1UUYrQmgWBH"
      }
    },
    {
      "cell_type": "code",
      "execution_count": null,
      "metadata": {
        "colab": {
          "base_uri": "https://localhost:8080/"
        },
        "id": "G0KP1eGOckhy",
        "outputId": "2b835b3e-d49a-487b-c78b-d59797e1c481"
      },
      "outputs": [
        {
          "output_type": "stream",
          "name": "stdout",
          "text": [
            "Requirement already satisfied: pyspark in /usr/local/lib/python3.10/dist-packages (3.5.3)\n",
            "Requirement already satisfied: py4j==0.10.9.7 in /usr/local/lib/python3.10/dist-packages (from pyspark) (0.10.9.7)\n",
            "¡PySpark está funcionando en la nube!\n"
          ]
        }
      ],
      "source": [
        "!pip install pyspark\n",
        "from pyspark.sql import SparkSession\n",
        "\n",
        "spark = SparkSession.builder.appName(\"WordCount\").getOrCreate()\n",
        "print(\"¡PySpark está funcionando en la nube!\")"
      ]
    },
    {
      "cell_type": "code",
      "source": [
        "!pip install PyPDF2"
      ],
      "metadata": {
        "colab": {
          "base_uri": "https://localhost:8080/"
        },
        "id": "HaZUzM6sdVZo",
        "outputId": "8425df69-e3ac-4f40-807e-a4d563544441"
      },
      "execution_count": null,
      "outputs": [
        {
          "output_type": "stream",
          "name": "stdout",
          "text": [
            "Collecting PyPDF2\n",
            "  Downloading pypdf2-3.0.1-py3-none-any.whl.metadata (6.8 kB)\n",
            "Downloading pypdf2-3.0.1-py3-none-any.whl (232 kB)\n",
            "\u001b[?25l   \u001b[90m━━━━━━━━━━━━━━━━━━━━━━━━━━━━━━━━━━━━━━━━\u001b[0m \u001b[32m0.0/232.6 kB\u001b[0m \u001b[31m?\u001b[0m eta \u001b[36m-:--:--\u001b[0m\r\u001b[2K   \u001b[91m━━━━━━━━━━━━━━━━━━━━━━━━━━━━━━━\u001b[0m\u001b[91m╸\u001b[0m\u001b[90m━━━━━━━━\u001b[0m \u001b[32m184.3/232.6 kB\u001b[0m \u001b[31m5.2 MB/s\u001b[0m eta \u001b[36m0:00:01\u001b[0m\r\u001b[2K   \u001b[90m━━━━━━━━━━━━━━━━━━━━━━━━━━━━━━━━━━━━━━━━\u001b[0m \u001b[32m232.6/232.6 kB\u001b[0m \u001b[31m4.4 MB/s\u001b[0m eta \u001b[36m0:00:00\u001b[0m\n",
            "\u001b[?25hInstalling collected packages: PyPDF2\n",
            "Successfully installed PyPDF2-3.0.1\n"
          ]
        }
      ]
    },
    {
      "cell_type": "code",
      "source": [
        "from pyspark.sql import SparkSession\n",
        "from PyPDF2 import PdfReader"
      ],
      "metadata": {
        "id": "UGkrnFZddBR4"
      },
      "execution_count": null,
      "outputs": []
    },
    {
      "cell_type": "code",
      "source": [
        "spark = SparkSession.builder \\\n",
        "    .appName(\"WordCount\") \\\n",
        "    .getOrCreate()"
      ],
      "metadata": {
        "id": "qaes7N3Ndaa_"
      },
      "execution_count": null,
      "outputs": []
    },
    {
      "cell_type": "markdown",
      "source": [
        "DOCUMENTO USADO: \"Estudio de los métodos de investigación y técnicas de recolección de datos utilizadas en bibliotecología y ciencia de la información\""
      ],
      "metadata": {
        "id": "Y_ZbLcspghPX"
      }
    },
    {
      "cell_type": "code",
      "source": [
        "from google.colab import files\n",
        "uploaded = files.upload()"
      ],
      "metadata": {
        "colab": {
          "base_uri": "https://localhost:8080/",
          "height": 73
        },
        "id": "2epnw3Z7deg3",
        "outputId": "7e6815a8-3326-42b2-8cb8-fda9b6d2b522"
      },
      "execution_count": null,
      "outputs": [
        {
          "output_type": "display_data",
          "data": {
            "text/plain": [
              "<IPython.core.display.HTML object>"
            ],
            "text/html": [
              "\n",
              "     <input type=\"file\" id=\"files-4862292e-ef13-4453-9581-57e86e940c39\" name=\"files[]\" multiple disabled\n",
              "        style=\"border:none\" />\n",
              "     <output id=\"result-4862292e-ef13-4453-9581-57e86e940c39\">\n",
              "      Upload widget is only available when the cell has been executed in the\n",
              "      current browser session. Please rerun this cell to enable.\n",
              "      </output>\n",
              "      <script>// Copyright 2017 Google LLC\n",
              "//\n",
              "// Licensed under the Apache License, Version 2.0 (the \"License\");\n",
              "// you may not use this file except in compliance with the License.\n",
              "// You may obtain a copy of the License at\n",
              "//\n",
              "//      http://www.apache.org/licenses/LICENSE-2.0\n",
              "//\n",
              "// Unless required by applicable law or agreed to in writing, software\n",
              "// distributed under the License is distributed on an \"AS IS\" BASIS,\n",
              "// WITHOUT WARRANTIES OR CONDITIONS OF ANY KIND, either express or implied.\n",
              "// See the License for the specific language governing permissions and\n",
              "// limitations under the License.\n",
              "\n",
              "/**\n",
              " * @fileoverview Helpers for google.colab Python module.\n",
              " */\n",
              "(function(scope) {\n",
              "function span(text, styleAttributes = {}) {\n",
              "  const element = document.createElement('span');\n",
              "  element.textContent = text;\n",
              "  for (const key of Object.keys(styleAttributes)) {\n",
              "    element.style[key] = styleAttributes[key];\n",
              "  }\n",
              "  return element;\n",
              "}\n",
              "\n",
              "// Max number of bytes which will be uploaded at a time.\n",
              "const MAX_PAYLOAD_SIZE = 100 * 1024;\n",
              "\n",
              "function _uploadFiles(inputId, outputId) {\n",
              "  const steps = uploadFilesStep(inputId, outputId);\n",
              "  const outputElement = document.getElementById(outputId);\n",
              "  // Cache steps on the outputElement to make it available for the next call\n",
              "  // to uploadFilesContinue from Python.\n",
              "  outputElement.steps = steps;\n",
              "\n",
              "  return _uploadFilesContinue(outputId);\n",
              "}\n",
              "\n",
              "// This is roughly an async generator (not supported in the browser yet),\n",
              "// where there are multiple asynchronous steps and the Python side is going\n",
              "// to poll for completion of each step.\n",
              "// This uses a Promise to block the python side on completion of each step,\n",
              "// then passes the result of the previous step as the input to the next step.\n",
              "function _uploadFilesContinue(outputId) {\n",
              "  const outputElement = document.getElementById(outputId);\n",
              "  const steps = outputElement.steps;\n",
              "\n",
              "  const next = steps.next(outputElement.lastPromiseValue);\n",
              "  return Promise.resolve(next.value.promise).then((value) => {\n",
              "    // Cache the last promise value to make it available to the next\n",
              "    // step of the generator.\n",
              "    outputElement.lastPromiseValue = value;\n",
              "    return next.value.response;\n",
              "  });\n",
              "}\n",
              "\n",
              "/**\n",
              " * Generator function which is called between each async step of the upload\n",
              " * process.\n",
              " * @param {string} inputId Element ID of the input file picker element.\n",
              " * @param {string} outputId Element ID of the output display.\n",
              " * @return {!Iterable<!Object>} Iterable of next steps.\n",
              " */\n",
              "function* uploadFilesStep(inputId, outputId) {\n",
              "  const inputElement = document.getElementById(inputId);\n",
              "  inputElement.disabled = false;\n",
              "\n",
              "  const outputElement = document.getElementById(outputId);\n",
              "  outputElement.innerHTML = '';\n",
              "\n",
              "  const pickedPromise = new Promise((resolve) => {\n",
              "    inputElement.addEventListener('change', (e) => {\n",
              "      resolve(e.target.files);\n",
              "    });\n",
              "  });\n",
              "\n",
              "  const cancel = document.createElement('button');\n",
              "  inputElement.parentElement.appendChild(cancel);\n",
              "  cancel.textContent = 'Cancel upload';\n",
              "  const cancelPromise = new Promise((resolve) => {\n",
              "    cancel.onclick = () => {\n",
              "      resolve(null);\n",
              "    };\n",
              "  });\n",
              "\n",
              "  // Wait for the user to pick the files.\n",
              "  const files = yield {\n",
              "    promise: Promise.race([pickedPromise, cancelPromise]),\n",
              "    response: {\n",
              "      action: 'starting',\n",
              "    }\n",
              "  };\n",
              "\n",
              "  cancel.remove();\n",
              "\n",
              "  // Disable the input element since further picks are not allowed.\n",
              "  inputElement.disabled = true;\n",
              "\n",
              "  if (!files) {\n",
              "    return {\n",
              "      response: {\n",
              "        action: 'complete',\n",
              "      }\n",
              "    };\n",
              "  }\n",
              "\n",
              "  for (const file of files) {\n",
              "    const li = document.createElement('li');\n",
              "    li.append(span(file.name, {fontWeight: 'bold'}));\n",
              "    li.append(span(\n",
              "        `(${file.type || 'n/a'}) - ${file.size} bytes, ` +\n",
              "        `last modified: ${\n",
              "            file.lastModifiedDate ? file.lastModifiedDate.toLocaleDateString() :\n",
              "                                    'n/a'} - `));\n",
              "    const percent = span('0% done');\n",
              "    li.appendChild(percent);\n",
              "\n",
              "    outputElement.appendChild(li);\n",
              "\n",
              "    const fileDataPromise = new Promise((resolve) => {\n",
              "      const reader = new FileReader();\n",
              "      reader.onload = (e) => {\n",
              "        resolve(e.target.result);\n",
              "      };\n",
              "      reader.readAsArrayBuffer(file);\n",
              "    });\n",
              "    // Wait for the data to be ready.\n",
              "    let fileData = yield {\n",
              "      promise: fileDataPromise,\n",
              "      response: {\n",
              "        action: 'continue',\n",
              "      }\n",
              "    };\n",
              "\n",
              "    // Use a chunked sending to avoid message size limits. See b/62115660.\n",
              "    let position = 0;\n",
              "    do {\n",
              "      const length = Math.min(fileData.byteLength - position, MAX_PAYLOAD_SIZE);\n",
              "      const chunk = new Uint8Array(fileData, position, length);\n",
              "      position += length;\n",
              "\n",
              "      const base64 = btoa(String.fromCharCode.apply(null, chunk));\n",
              "      yield {\n",
              "        response: {\n",
              "          action: 'append',\n",
              "          file: file.name,\n",
              "          data: base64,\n",
              "        },\n",
              "      };\n",
              "\n",
              "      let percentDone = fileData.byteLength === 0 ?\n",
              "          100 :\n",
              "          Math.round((position / fileData.byteLength) * 100);\n",
              "      percent.textContent = `${percentDone}% done`;\n",
              "\n",
              "    } while (position < fileData.byteLength);\n",
              "  }\n",
              "\n",
              "  // All done.\n",
              "  yield {\n",
              "    response: {\n",
              "      action: 'complete',\n",
              "    }\n",
              "  };\n",
              "}\n",
              "\n",
              "scope.google = scope.google || {};\n",
              "scope.google.colab = scope.google.colab || {};\n",
              "scope.google.colab._files = {\n",
              "  _uploadFiles,\n",
              "  _uploadFilesContinue,\n",
              "};\n",
              "})(self);\n",
              "</script> "
            ]
          },
          "metadata": {}
        },
        {
          "output_type": "stream",
          "name": "stdout",
          "text": [
            "Saving 979-Texto del artículo (necesario)-4381-1-10-20170607.pdf to 979-Texto del artículo (necesario)-4381-1-10-20170607.pdf\n"
          ]
        }
      ]
    },
    {
      "cell_type": "code",
      "source": [
        "from google.colab import drive\n",
        "drive.mount('/content/drive')"
      ],
      "metadata": {
        "colab": {
          "base_uri": "https://localhost:8080/"
        },
        "id": "ohHHpyzEgvXJ",
        "outputId": "1174be53-1155-4b3f-8056-1ff2ac9cf6a3"
      },
      "execution_count": null,
      "outputs": [
        {
          "output_type": "stream",
          "name": "stdout",
          "text": [
            "Drive already mounted at /content/drive; to attempt to forcibly remount, call drive.mount(\"/content/drive\", force_remount=True).\n"
          ]
        }
      ]
    },
    {
      "cell_type": "code",
      "source": [
        "total_palabras = len(pdf_text.split())\n",
        "print(f\"El número total de palabras encontrado por PySpark en el texto es: {total_palabras}\")"
      ],
      "metadata": {
        "colab": {
          "base_uri": "https://localhost:8080/"
        },
        "id": "eGTlHDCne0Ld",
        "outputId": "04fb05c2-c87e-4a6c-f36b-ed08c0f33a74"
      },
      "execution_count": null,
      "outputs": [
        {
          "output_type": "stream",
          "name": "stdout",
          "text": [
            "El número total de palabras encontrado por PySpark en el texto es: 8011\n"
          ]
        }
      ]
    },
    {
      "cell_type": "code",
      "source": [
        "file_name = list(uploaded.keys())[0]\n",
        "reader = PdfReader(file_name)\n",
        "pdf_text = \"\"\n",
        "for page in reader.pages:\n",
        "    pdf_text += page.extract_text()"
      ],
      "metadata": {
        "id": "xTCZecBjdmFX"
      },
      "execution_count": null,
      "outputs": []
    },
    {
      "cell_type": "code",
      "source": [
        "lines = pdf_text.split(\"\\n\")"
      ],
      "metadata": {
        "id": "pew8II6LdqA4"
      },
      "execution_count": null,
      "outputs": []
    },
    {
      "cell_type": "code",
      "source": [
        "rdd = spark.sparkContext.parallelize(lines)"
      ],
      "metadata": {
        "id": "5DSdwOAqdsqn"
      },
      "execution_count": null,
      "outputs": []
    },
    {
      "cell_type": "code",
      "source": [
        "word_counts = (\n",
        "    rdd.flatMap(lambda line: line.split())\n",
        "    .map(lambda word: word.lower().strip(\".,!?;:()[]{}\\\"'\"))\n",
        "    .filter(lambda word: word.isalpha())\n",
        "    .map(lambda word: (word, 1))\n",
        "    .reduceByKey(lambda a, b: a + b)\n",
        ")"
      ],
      "metadata": {
        "id": "YbnrfY3UdxXw"
      },
      "execution_count": null,
      "outputs": []
    },
    {
      "cell_type": "code",
      "source": [
        "top_words_pyspark = word_counts.takeOrdered(20, key=lambda x: -x[1])"
      ],
      "metadata": {
        "id": "5wjA79oWd5Cv"
      },
      "execution_count": null,
      "outputs": []
    },
    {
      "cell_type": "markdown",
      "source": [
        "**RESULTADOS GENERALES DEL CONTEO DE PALABRAS EN EL DOCUMENTO CON PYSPARK**"
      ],
      "metadata": {
        "id": "o2jIBLdfgUHf"
      }
    },
    {
      "cell_type": "code",
      "source": [
        "print(\"Las 20 palabras más frecuentes son:\")\n",
        "for word, count in top_words_pyspark:\n",
        "    print(f\"{word}: {count}\")"
      ],
      "metadata": {
        "colab": {
          "base_uri": "https://localhost:8080/"
        },
        "id": "0uqQbdlYd73Y",
        "outputId": "c084d5dd-68e5-4de8-a86f-a9ff1a30f255"
      },
      "execution_count": null,
      "outputs": [
        {
          "output_type": "stream",
          "name": "stdout",
          "text": [
            "Las 20 palabras más frecuentes son:\n",
            "de: 537\n",
            "y: 199\n",
            "en: 195\n",
            "la: 191\n",
            "los: 151\n",
            "que: 127\n",
            "el: 119\n",
            "métodos: 93\n",
            "investigación: 87\n",
            "a: 75\n",
            "se: 68\n",
            "las: 63\n",
            "un: 61\n",
            "estudios: 51\n",
            "análisis: 51\n",
            "por: 48\n",
            "técnicas: 47\n",
            "of: 47\n",
            "del: 42\n",
            "método: 41\n"
          ]
        }
      ]
    },
    {
      "cell_type": "code",
      "source": [
        "pyspark_words = [(word, count) for word, count in top_words_pyspark]"
      ],
      "metadata": {
        "id": "OMeGktNUk7dA"
      },
      "execution_count": null,
      "outputs": []
    },
    {
      "cell_type": "code",
      "source": [
        "stopwords = {\"de\", \"y\", \"en\", \"la\", \"los\", \"que\", \"el\", \"a\", \"se\", \"las\", \"un\",\n",
        "             \"por\", \"of\", \"del\", \"the\", \"una\", \"para\", \"con\", \"and\", \"o\",\n",
        "             \"otros\", \"lis\", \"lo\", \"es\", \"nº\", \"no\", \"como\", \"más\", \"vol\", \"al\",\n",
        "             \"in\", \"su\", \"entre\", \"library\", \"science\", \"peritz\", \"research\",\n",
        "             \"vakkari\"}"
      ],
      "metadata": {
        "id": "rtgSS3PCenkA"
      },
      "execution_count": null,
      "outputs": []
    },
    {
      "cell_type": "code",
      "source": [
        "filtered_word_counts_pyspark = (\n",
        "    rdd.flatMap(lambda line: line.split())\n",
        "    .map(lambda word: word.lower().strip(\".,!?:;()[]{}\\\"'\"))\n",
        "    .filter(lambda word: word.isalpha())\n",
        "    .filter(lambda word: word not in stopwords)\n",
        "    .map(lambda word: (word, 1))\n",
        "    .reduceByKey(lambda a, b: a + b)\n",
        ")"
      ],
      "metadata": {
        "id": "ewNH6bH-erpv"
      },
      "execution_count": null,
      "outputs": []
    },
    {
      "cell_type": "code",
      "source": [
        "top_filtered_words_pyspark = filtered_word_counts_pyspark.takeOrdered(20, key=lambda x: -x[1])"
      ],
      "metadata": {
        "id": "CB6DI-pPexlf"
      },
      "execution_count": null,
      "outputs": []
    },
    {
      "cell_type": "markdown",
      "source": [
        "**PALABRAS IRRELEVANTES FILTRADAS EN PROCESAMIENTO DE LENGUAJE NATURAL  CON PYSPARK**"
      ],
      "metadata": {
        "id": "ciGvbfOBheZH"
      }
    },
    {
      "cell_type": "code",
      "source": [
        "print(\"Palabras filtradas más frecuentes en PySpark:\")\n",
        "for word, count in top_filtered_words_pyspark:\n",
        "    print(f\"{word}: {count}\")"
      ],
      "metadata": {
        "colab": {
          "base_uri": "https://localhost:8080/"
        },
        "id": "FpPa2T6He3eX",
        "outputId": "7d981177-08b7-4f72-cf8b-7ed7ea9e9222"
      },
      "execution_count": null,
      "outputs": [
        {
          "output_type": "stream",
          "name": "stdout",
          "text": [
            "Palabras filtradas más frecuentes en PySpark:\n",
            "métodos: 93\n",
            "investigación: 87\n",
            "estudios: 51\n",
            "análisis: 51\n",
            "técnicas: 47\n",
            "método: 41\n",
            "estudio: 36\n",
            "artículos: 33\n",
            "utilizadas: 25\n",
            "information: 23\n",
            "datos: 21\n",
            "tabla: 20\n",
            "contenido: 19\n",
            "información: 16\n",
            "trabajos: 16\n",
            "cantidad: 16\n",
            "tesis: 15\n",
            "encuesta: 15\n",
            "científicos: 15\n",
            "encuestas: 15\n"
          ]
        }
      ]
    },
    {
      "cell_type": "code",
      "source": [
        "filtered_pyspark_words = [(word, count) for word, count in top_filtered_words_pyspark]"
      ],
      "metadata": {
        "id": "ED-OPOT8mfhT"
      },
      "execution_count": null,
      "outputs": []
    },
    {
      "cell_type": "markdown",
      "source": [
        "# CONTEO DE PALABRAS GENERAL CON SPACY"
      ],
      "metadata": {
        "id": "uCHV8dEriXSP"
      }
    },
    {
      "cell_type": "code",
      "source": [
        "!pip install spacy\n",
        "!python -m spacy download es_core_news_sm"
      ],
      "metadata": {
        "colab": {
          "base_uri": "https://localhost:8080/"
        },
        "id": "RzuiN_YIiUIP",
        "outputId": "b4429832-c0cd-48f2-d6cd-c0563fcb570b",
        "collapsed": true
      },
      "execution_count": null,
      "outputs": [
        {
          "output_type": "stream",
          "name": "stdout",
          "text": [
            "Requirement already satisfied: spacy in /usr/local/lib/python3.10/dist-packages (3.7.5)\n",
            "Requirement already satisfied: spacy-legacy<3.1.0,>=3.0.11 in /usr/local/lib/python3.10/dist-packages (from spacy) (3.0.12)\n",
            "Requirement already satisfied: spacy-loggers<2.0.0,>=1.0.0 in /usr/local/lib/python3.10/dist-packages (from spacy) (1.0.5)\n",
            "Requirement already satisfied: murmurhash<1.1.0,>=0.28.0 in /usr/local/lib/python3.10/dist-packages (from spacy) (1.0.11)\n",
            "Requirement already satisfied: cymem<2.1.0,>=2.0.2 in /usr/local/lib/python3.10/dist-packages (from spacy) (2.0.10)\n",
            "Requirement already satisfied: preshed<3.1.0,>=3.0.2 in /usr/local/lib/python3.10/dist-packages (from spacy) (3.0.9)\n",
            "Requirement already satisfied: thinc<8.3.0,>=8.2.2 in /usr/local/lib/python3.10/dist-packages (from spacy) (8.2.5)\n",
            "Requirement already satisfied: wasabi<1.2.0,>=0.9.1 in /usr/local/lib/python3.10/dist-packages (from spacy) (1.1.3)\n",
            "Requirement already satisfied: srsly<3.0.0,>=2.4.3 in /usr/local/lib/python3.10/dist-packages (from spacy) (2.4.8)\n",
            "Requirement already satisfied: catalogue<2.1.0,>=2.0.6 in /usr/local/lib/python3.10/dist-packages (from spacy) (2.0.10)\n",
            "Requirement already satisfied: weasel<0.5.0,>=0.1.0 in /usr/local/lib/python3.10/dist-packages (from spacy) (0.4.1)\n",
            "Requirement already satisfied: typer<1.0.0,>=0.3.0 in /usr/local/lib/python3.10/dist-packages (from spacy) (0.15.0)\n",
            "Requirement already satisfied: tqdm<5.0.0,>=4.38.0 in /usr/local/lib/python3.10/dist-packages (from spacy) (4.66.6)\n",
            "Requirement already satisfied: requests<3.0.0,>=2.13.0 in /usr/local/lib/python3.10/dist-packages (from spacy) (2.32.3)\n",
            "Requirement already satisfied: pydantic!=1.8,!=1.8.1,<3.0.0,>=1.7.4 in /usr/local/lib/python3.10/dist-packages (from spacy) (2.10.3)\n",
            "Requirement already satisfied: jinja2 in /usr/local/lib/python3.10/dist-packages (from spacy) (3.1.4)\n",
            "Requirement already satisfied: setuptools in /usr/local/lib/python3.10/dist-packages (from spacy) (75.1.0)\n",
            "Requirement already satisfied: packaging>=20.0 in /usr/local/lib/python3.10/dist-packages (from spacy) (24.2)\n",
            "Requirement already satisfied: langcodes<4.0.0,>=3.2.0 in /usr/local/lib/python3.10/dist-packages (from spacy) (3.5.0)\n",
            "Requirement already satisfied: numpy>=1.19.0 in /usr/local/lib/python3.10/dist-packages (from spacy) (1.26.4)\n",
            "Requirement already satisfied: language-data>=1.2 in /usr/local/lib/python3.10/dist-packages (from langcodes<4.0.0,>=3.2.0->spacy) (1.3.0)\n",
            "Requirement already satisfied: annotated-types>=0.6.0 in /usr/local/lib/python3.10/dist-packages (from pydantic!=1.8,!=1.8.1,<3.0.0,>=1.7.4->spacy) (0.7.0)\n",
            "Requirement already satisfied: pydantic-core==2.27.1 in /usr/local/lib/python3.10/dist-packages (from pydantic!=1.8,!=1.8.1,<3.0.0,>=1.7.4->spacy) (2.27.1)\n",
            "Requirement already satisfied: typing-extensions>=4.12.2 in /usr/local/lib/python3.10/dist-packages (from pydantic!=1.8,!=1.8.1,<3.0.0,>=1.7.4->spacy) (4.12.2)\n",
            "Requirement already satisfied: charset-normalizer<4,>=2 in /usr/local/lib/python3.10/dist-packages (from requests<3.0.0,>=2.13.0->spacy) (3.4.0)\n",
            "Requirement already satisfied: idna<4,>=2.5 in /usr/local/lib/python3.10/dist-packages (from requests<3.0.0,>=2.13.0->spacy) (3.10)\n",
            "Requirement already satisfied: urllib3<3,>=1.21.1 in /usr/local/lib/python3.10/dist-packages (from requests<3.0.0,>=2.13.0->spacy) (2.2.3)\n",
            "Requirement already satisfied: certifi>=2017.4.17 in /usr/local/lib/python3.10/dist-packages (from requests<3.0.0,>=2.13.0->spacy) (2024.8.30)\n",
            "Requirement already satisfied: blis<0.8.0,>=0.7.8 in /usr/local/lib/python3.10/dist-packages (from thinc<8.3.0,>=8.2.2->spacy) (0.7.11)\n",
            "Requirement already satisfied: confection<1.0.0,>=0.0.1 in /usr/local/lib/python3.10/dist-packages (from thinc<8.3.0,>=8.2.2->spacy) (0.1.5)\n",
            "Requirement already satisfied: click>=8.0.0 in /usr/local/lib/python3.10/dist-packages (from typer<1.0.0,>=0.3.0->spacy) (8.1.7)\n",
            "Requirement already satisfied: shellingham>=1.3.0 in /usr/local/lib/python3.10/dist-packages (from typer<1.0.0,>=0.3.0->spacy) (1.5.4)\n",
            "Requirement already satisfied: rich>=10.11.0 in /usr/local/lib/python3.10/dist-packages (from typer<1.0.0,>=0.3.0->spacy) (13.9.4)\n",
            "Requirement already satisfied: cloudpathlib<1.0.0,>=0.7.0 in /usr/local/lib/python3.10/dist-packages (from weasel<0.5.0,>=0.1.0->spacy) (0.20.0)\n",
            "Requirement already satisfied: smart-open<8.0.0,>=5.2.1 in /usr/local/lib/python3.10/dist-packages (from weasel<0.5.0,>=0.1.0->spacy) (7.0.5)\n",
            "Requirement already satisfied: MarkupSafe>=2.0 in /usr/local/lib/python3.10/dist-packages (from jinja2->spacy) (3.0.2)\n",
            "Requirement already satisfied: marisa-trie>=1.1.0 in /usr/local/lib/python3.10/dist-packages (from language-data>=1.2->langcodes<4.0.0,>=3.2.0->spacy) (1.2.1)\n",
            "Requirement already satisfied: markdown-it-py>=2.2.0 in /usr/local/lib/python3.10/dist-packages (from rich>=10.11.0->typer<1.0.0,>=0.3.0->spacy) (3.0.0)\n",
            "Requirement already satisfied: pygments<3.0.0,>=2.13.0 in /usr/local/lib/python3.10/dist-packages (from rich>=10.11.0->typer<1.0.0,>=0.3.0->spacy) (2.18.0)\n",
            "Requirement already satisfied: wrapt in /usr/local/lib/python3.10/dist-packages (from smart-open<8.0.0,>=5.2.1->weasel<0.5.0,>=0.1.0->spacy) (1.17.0)\n",
            "Requirement already satisfied: mdurl~=0.1 in /usr/local/lib/python3.10/dist-packages (from markdown-it-py>=2.2.0->rich>=10.11.0->typer<1.0.0,>=0.3.0->spacy) (0.1.2)\n",
            "Collecting es-core-news-sm==3.7.0\n",
            "  Downloading https://github.com/explosion/spacy-models/releases/download/es_core_news_sm-3.7.0/es_core_news_sm-3.7.0-py3-none-any.whl (12.9 MB)\n",
            "\u001b[2K     \u001b[90m━━━━━━━━━━━━━━━━━━━━━━━━━━━━━━━━━━━━━━━━\u001b[0m \u001b[32m12.9/12.9 MB\u001b[0m \u001b[31m82.5 MB/s\u001b[0m eta \u001b[36m0:00:00\u001b[0m\n",
            "\u001b[?25hRequirement already satisfied: spacy<3.8.0,>=3.7.0 in /usr/local/lib/python3.10/dist-packages (from es-core-news-sm==3.7.0) (3.7.5)\n",
            "Requirement already satisfied: spacy-legacy<3.1.0,>=3.0.11 in /usr/local/lib/python3.10/dist-packages (from spacy<3.8.0,>=3.7.0->es-core-news-sm==3.7.0) (3.0.12)\n",
            "Requirement already satisfied: spacy-loggers<2.0.0,>=1.0.0 in /usr/local/lib/python3.10/dist-packages (from spacy<3.8.0,>=3.7.0->es-core-news-sm==3.7.0) (1.0.5)\n",
            "Requirement already satisfied: murmurhash<1.1.0,>=0.28.0 in /usr/local/lib/python3.10/dist-packages (from spacy<3.8.0,>=3.7.0->es-core-news-sm==3.7.0) (1.0.11)\n",
            "Requirement already satisfied: cymem<2.1.0,>=2.0.2 in /usr/local/lib/python3.10/dist-packages (from spacy<3.8.0,>=3.7.0->es-core-news-sm==3.7.0) (2.0.10)\n",
            "Requirement already satisfied: preshed<3.1.0,>=3.0.2 in /usr/local/lib/python3.10/dist-packages (from spacy<3.8.0,>=3.7.0->es-core-news-sm==3.7.0) (3.0.9)\n",
            "Requirement already satisfied: thinc<8.3.0,>=8.2.2 in /usr/local/lib/python3.10/dist-packages (from spacy<3.8.0,>=3.7.0->es-core-news-sm==3.7.0) (8.2.5)\n",
            "Requirement already satisfied: wasabi<1.2.0,>=0.9.1 in /usr/local/lib/python3.10/dist-packages (from spacy<3.8.0,>=3.7.0->es-core-news-sm==3.7.0) (1.1.3)\n",
            "Requirement already satisfied: srsly<3.0.0,>=2.4.3 in /usr/local/lib/python3.10/dist-packages (from spacy<3.8.0,>=3.7.0->es-core-news-sm==3.7.0) (2.4.8)\n",
            "Requirement already satisfied: catalogue<2.1.0,>=2.0.6 in /usr/local/lib/python3.10/dist-packages (from spacy<3.8.0,>=3.7.0->es-core-news-sm==3.7.0) (2.0.10)\n",
            "Requirement already satisfied: weasel<0.5.0,>=0.1.0 in /usr/local/lib/python3.10/dist-packages (from spacy<3.8.0,>=3.7.0->es-core-news-sm==3.7.0) (0.4.1)\n",
            "Requirement already satisfied: typer<1.0.0,>=0.3.0 in /usr/local/lib/python3.10/dist-packages (from spacy<3.8.0,>=3.7.0->es-core-news-sm==3.7.0) (0.15.0)\n",
            "Requirement already satisfied: tqdm<5.0.0,>=4.38.0 in /usr/local/lib/python3.10/dist-packages (from spacy<3.8.0,>=3.7.0->es-core-news-sm==3.7.0) (4.66.6)\n",
            "Requirement already satisfied: requests<3.0.0,>=2.13.0 in /usr/local/lib/python3.10/dist-packages (from spacy<3.8.0,>=3.7.0->es-core-news-sm==3.7.0) (2.32.3)\n",
            "Requirement already satisfied: pydantic!=1.8,!=1.8.1,<3.0.0,>=1.7.4 in /usr/local/lib/python3.10/dist-packages (from spacy<3.8.0,>=3.7.0->es-core-news-sm==3.7.0) (2.10.3)\n",
            "Requirement already satisfied: jinja2 in /usr/local/lib/python3.10/dist-packages (from spacy<3.8.0,>=3.7.0->es-core-news-sm==3.7.0) (3.1.4)\n",
            "Requirement already satisfied: setuptools in /usr/local/lib/python3.10/dist-packages (from spacy<3.8.0,>=3.7.0->es-core-news-sm==3.7.0) (75.1.0)\n",
            "Requirement already satisfied: packaging>=20.0 in /usr/local/lib/python3.10/dist-packages (from spacy<3.8.0,>=3.7.0->es-core-news-sm==3.7.0) (24.2)\n",
            "Requirement already satisfied: langcodes<4.0.0,>=3.2.0 in /usr/local/lib/python3.10/dist-packages (from spacy<3.8.0,>=3.7.0->es-core-news-sm==3.7.0) (3.5.0)\n",
            "Requirement already satisfied: numpy>=1.19.0 in /usr/local/lib/python3.10/dist-packages (from spacy<3.8.0,>=3.7.0->es-core-news-sm==3.7.0) (1.26.4)\n",
            "Requirement already satisfied: language-data>=1.2 in /usr/local/lib/python3.10/dist-packages (from langcodes<4.0.0,>=3.2.0->spacy<3.8.0,>=3.7.0->es-core-news-sm==3.7.0) (1.3.0)\n",
            "Requirement already satisfied: annotated-types>=0.6.0 in /usr/local/lib/python3.10/dist-packages (from pydantic!=1.8,!=1.8.1,<3.0.0,>=1.7.4->spacy<3.8.0,>=3.7.0->es-core-news-sm==3.7.0) (0.7.0)\n",
            "Requirement already satisfied: pydantic-core==2.27.1 in /usr/local/lib/python3.10/dist-packages (from pydantic!=1.8,!=1.8.1,<3.0.0,>=1.7.4->spacy<3.8.0,>=3.7.0->es-core-news-sm==3.7.0) (2.27.1)\n",
            "Requirement already satisfied: typing-extensions>=4.12.2 in /usr/local/lib/python3.10/dist-packages (from pydantic!=1.8,!=1.8.1,<3.0.0,>=1.7.4->spacy<3.8.0,>=3.7.0->es-core-news-sm==3.7.0) (4.12.2)\n",
            "Requirement already satisfied: charset-normalizer<4,>=2 in /usr/local/lib/python3.10/dist-packages (from requests<3.0.0,>=2.13.0->spacy<3.8.0,>=3.7.0->es-core-news-sm==3.7.0) (3.4.0)\n",
            "Requirement already satisfied: idna<4,>=2.5 in /usr/local/lib/python3.10/dist-packages (from requests<3.0.0,>=2.13.0->spacy<3.8.0,>=3.7.0->es-core-news-sm==3.7.0) (3.10)\n",
            "Requirement already satisfied: urllib3<3,>=1.21.1 in /usr/local/lib/python3.10/dist-packages (from requests<3.0.0,>=2.13.0->spacy<3.8.0,>=3.7.0->es-core-news-sm==3.7.0) (2.2.3)\n",
            "Requirement already satisfied: certifi>=2017.4.17 in /usr/local/lib/python3.10/dist-packages (from requests<3.0.0,>=2.13.0->spacy<3.8.0,>=3.7.0->es-core-news-sm==3.7.0) (2024.8.30)\n",
            "Requirement already satisfied: blis<0.8.0,>=0.7.8 in /usr/local/lib/python3.10/dist-packages (from thinc<8.3.0,>=8.2.2->spacy<3.8.0,>=3.7.0->es-core-news-sm==3.7.0) (0.7.11)\n",
            "Requirement already satisfied: confection<1.0.0,>=0.0.1 in /usr/local/lib/python3.10/dist-packages (from thinc<8.3.0,>=8.2.2->spacy<3.8.0,>=3.7.0->es-core-news-sm==3.7.0) (0.1.5)\n",
            "Requirement already satisfied: click>=8.0.0 in /usr/local/lib/python3.10/dist-packages (from typer<1.0.0,>=0.3.0->spacy<3.8.0,>=3.7.0->es-core-news-sm==3.7.0) (8.1.7)\n",
            "Requirement already satisfied: shellingham>=1.3.0 in /usr/local/lib/python3.10/dist-packages (from typer<1.0.0,>=0.3.0->spacy<3.8.0,>=3.7.0->es-core-news-sm==3.7.0) (1.5.4)\n",
            "Requirement already satisfied: rich>=10.11.0 in /usr/local/lib/python3.10/dist-packages (from typer<1.0.0,>=0.3.0->spacy<3.8.0,>=3.7.0->es-core-news-sm==3.7.0) (13.9.4)\n",
            "Requirement already satisfied: cloudpathlib<1.0.0,>=0.7.0 in /usr/local/lib/python3.10/dist-packages (from weasel<0.5.0,>=0.1.0->spacy<3.8.0,>=3.7.0->es-core-news-sm==3.7.0) (0.20.0)\n",
            "Requirement already satisfied: smart-open<8.0.0,>=5.2.1 in /usr/local/lib/python3.10/dist-packages (from weasel<0.5.0,>=0.1.0->spacy<3.8.0,>=3.7.0->es-core-news-sm==3.7.0) (7.0.5)\n",
            "Requirement already satisfied: MarkupSafe>=2.0 in /usr/local/lib/python3.10/dist-packages (from jinja2->spacy<3.8.0,>=3.7.0->es-core-news-sm==3.7.0) (3.0.2)\n",
            "Requirement already satisfied: marisa-trie>=1.1.0 in /usr/local/lib/python3.10/dist-packages (from language-data>=1.2->langcodes<4.0.0,>=3.2.0->spacy<3.8.0,>=3.7.0->es-core-news-sm==3.7.0) (1.2.1)\n",
            "Requirement already satisfied: markdown-it-py>=2.2.0 in /usr/local/lib/python3.10/dist-packages (from rich>=10.11.0->typer<1.0.0,>=0.3.0->spacy<3.8.0,>=3.7.0->es-core-news-sm==3.7.0) (3.0.0)\n",
            "Requirement already satisfied: pygments<3.0.0,>=2.13.0 in /usr/local/lib/python3.10/dist-packages (from rich>=10.11.0->typer<1.0.0,>=0.3.0->spacy<3.8.0,>=3.7.0->es-core-news-sm==3.7.0) (2.18.0)\n",
            "Requirement already satisfied: wrapt in /usr/local/lib/python3.10/dist-packages (from smart-open<8.0.0,>=5.2.1->weasel<0.5.0,>=0.1.0->spacy<3.8.0,>=3.7.0->es-core-news-sm==3.7.0) (1.17.0)\n",
            "Requirement already satisfied: mdurl~=0.1 in /usr/local/lib/python3.10/dist-packages (from markdown-it-py>=2.2.0->rich>=10.11.0->typer<1.0.0,>=0.3.0->spacy<3.8.0,>=3.7.0->es-core-news-sm==3.7.0) (0.1.2)\n",
            "Installing collected packages: es-core-news-sm\n",
            "Successfully installed es-core-news-sm-3.7.0\n",
            "\u001b[38;5;2m✔ Download and installation successful\u001b[0m\n",
            "You can now load the package via spacy.load('es_core_news_sm')\n",
            "\u001b[38;5;3m⚠ Restart to reload dependencies\u001b[0m\n",
            "If you are in a Jupyter or Colab notebook, you may need to restart Python in\n",
            "order to load all the package's dependencies. You can do this by selecting the\n",
            "'Restart kernel' or 'Restart runtime' option.\n"
          ]
        }
      ]
    },
    {
      "cell_type": "code",
      "source": [
        "import spacy\n",
        "from collections import Counter\n",
        "from PyPDF2 import PdfReader"
      ],
      "metadata": {
        "id": "etvyZUOrjHJ2"
      },
      "execution_count": null,
      "outputs": []
    },
    {
      "cell_type": "code",
      "source": [
        "from google.colab import files\n",
        "uploaded = files.upload()"
      ],
      "metadata": {
        "colab": {
          "base_uri": "https://localhost:8080/",
          "height": 73
        },
        "id": "R7Z2nnzfilVf",
        "outputId": "fe27f3b6-4902-447c-ada5-0ba8dbf61ba4"
      },
      "execution_count": null,
      "outputs": [
        {
          "output_type": "display_data",
          "data": {
            "text/plain": [
              "<IPython.core.display.HTML object>"
            ],
            "text/html": [
              "\n",
              "     <input type=\"file\" id=\"files-565a3187-6c5e-441a-9b37-c4020454f9f8\" name=\"files[]\" multiple disabled\n",
              "        style=\"border:none\" />\n",
              "     <output id=\"result-565a3187-6c5e-441a-9b37-c4020454f9f8\">\n",
              "      Upload widget is only available when the cell has been executed in the\n",
              "      current browser session. Please rerun this cell to enable.\n",
              "      </output>\n",
              "      <script>// Copyright 2017 Google LLC\n",
              "//\n",
              "// Licensed under the Apache License, Version 2.0 (the \"License\");\n",
              "// you may not use this file except in compliance with the License.\n",
              "// You may obtain a copy of the License at\n",
              "//\n",
              "//      http://www.apache.org/licenses/LICENSE-2.0\n",
              "//\n",
              "// Unless required by applicable law or agreed to in writing, software\n",
              "// distributed under the License is distributed on an \"AS IS\" BASIS,\n",
              "// WITHOUT WARRANTIES OR CONDITIONS OF ANY KIND, either express or implied.\n",
              "// See the License for the specific language governing permissions and\n",
              "// limitations under the License.\n",
              "\n",
              "/**\n",
              " * @fileoverview Helpers for google.colab Python module.\n",
              " */\n",
              "(function(scope) {\n",
              "function span(text, styleAttributes = {}) {\n",
              "  const element = document.createElement('span');\n",
              "  element.textContent = text;\n",
              "  for (const key of Object.keys(styleAttributes)) {\n",
              "    element.style[key] = styleAttributes[key];\n",
              "  }\n",
              "  return element;\n",
              "}\n",
              "\n",
              "// Max number of bytes which will be uploaded at a time.\n",
              "const MAX_PAYLOAD_SIZE = 100 * 1024;\n",
              "\n",
              "function _uploadFiles(inputId, outputId) {\n",
              "  const steps = uploadFilesStep(inputId, outputId);\n",
              "  const outputElement = document.getElementById(outputId);\n",
              "  // Cache steps on the outputElement to make it available for the next call\n",
              "  // to uploadFilesContinue from Python.\n",
              "  outputElement.steps = steps;\n",
              "\n",
              "  return _uploadFilesContinue(outputId);\n",
              "}\n",
              "\n",
              "// This is roughly an async generator (not supported in the browser yet),\n",
              "// where there are multiple asynchronous steps and the Python side is going\n",
              "// to poll for completion of each step.\n",
              "// This uses a Promise to block the python side on completion of each step,\n",
              "// then passes the result of the previous step as the input to the next step.\n",
              "function _uploadFilesContinue(outputId) {\n",
              "  const outputElement = document.getElementById(outputId);\n",
              "  const steps = outputElement.steps;\n",
              "\n",
              "  const next = steps.next(outputElement.lastPromiseValue);\n",
              "  return Promise.resolve(next.value.promise).then((value) => {\n",
              "    // Cache the last promise value to make it available to the next\n",
              "    // step of the generator.\n",
              "    outputElement.lastPromiseValue = value;\n",
              "    return next.value.response;\n",
              "  });\n",
              "}\n",
              "\n",
              "/**\n",
              " * Generator function which is called between each async step of the upload\n",
              " * process.\n",
              " * @param {string} inputId Element ID of the input file picker element.\n",
              " * @param {string} outputId Element ID of the output display.\n",
              " * @return {!Iterable<!Object>} Iterable of next steps.\n",
              " */\n",
              "function* uploadFilesStep(inputId, outputId) {\n",
              "  const inputElement = document.getElementById(inputId);\n",
              "  inputElement.disabled = false;\n",
              "\n",
              "  const outputElement = document.getElementById(outputId);\n",
              "  outputElement.innerHTML = '';\n",
              "\n",
              "  const pickedPromise = new Promise((resolve) => {\n",
              "    inputElement.addEventListener('change', (e) => {\n",
              "      resolve(e.target.files);\n",
              "    });\n",
              "  });\n",
              "\n",
              "  const cancel = document.createElement('button');\n",
              "  inputElement.parentElement.appendChild(cancel);\n",
              "  cancel.textContent = 'Cancel upload';\n",
              "  const cancelPromise = new Promise((resolve) => {\n",
              "    cancel.onclick = () => {\n",
              "      resolve(null);\n",
              "    };\n",
              "  });\n",
              "\n",
              "  // Wait for the user to pick the files.\n",
              "  const files = yield {\n",
              "    promise: Promise.race([pickedPromise, cancelPromise]),\n",
              "    response: {\n",
              "      action: 'starting',\n",
              "    }\n",
              "  };\n",
              "\n",
              "  cancel.remove();\n",
              "\n",
              "  // Disable the input element since further picks are not allowed.\n",
              "  inputElement.disabled = true;\n",
              "\n",
              "  if (!files) {\n",
              "    return {\n",
              "      response: {\n",
              "        action: 'complete',\n",
              "      }\n",
              "    };\n",
              "  }\n",
              "\n",
              "  for (const file of files) {\n",
              "    const li = document.createElement('li');\n",
              "    li.append(span(file.name, {fontWeight: 'bold'}));\n",
              "    li.append(span(\n",
              "        `(${file.type || 'n/a'}) - ${file.size} bytes, ` +\n",
              "        `last modified: ${\n",
              "            file.lastModifiedDate ? file.lastModifiedDate.toLocaleDateString() :\n",
              "                                    'n/a'} - `));\n",
              "    const percent = span('0% done');\n",
              "    li.appendChild(percent);\n",
              "\n",
              "    outputElement.appendChild(li);\n",
              "\n",
              "    const fileDataPromise = new Promise((resolve) => {\n",
              "      const reader = new FileReader();\n",
              "      reader.onload = (e) => {\n",
              "        resolve(e.target.result);\n",
              "      };\n",
              "      reader.readAsArrayBuffer(file);\n",
              "    });\n",
              "    // Wait for the data to be ready.\n",
              "    let fileData = yield {\n",
              "      promise: fileDataPromise,\n",
              "      response: {\n",
              "        action: 'continue',\n",
              "      }\n",
              "    };\n",
              "\n",
              "    // Use a chunked sending to avoid message size limits. See b/62115660.\n",
              "    let position = 0;\n",
              "    do {\n",
              "      const length = Math.min(fileData.byteLength - position, MAX_PAYLOAD_SIZE);\n",
              "      const chunk = new Uint8Array(fileData, position, length);\n",
              "      position += length;\n",
              "\n",
              "      const base64 = btoa(String.fromCharCode.apply(null, chunk));\n",
              "      yield {\n",
              "        response: {\n",
              "          action: 'append',\n",
              "          file: file.name,\n",
              "          data: base64,\n",
              "        },\n",
              "      };\n",
              "\n",
              "      let percentDone = fileData.byteLength === 0 ?\n",
              "          100 :\n",
              "          Math.round((position / fileData.byteLength) * 100);\n",
              "      percent.textContent = `${percentDone}% done`;\n",
              "\n",
              "    } while (position < fileData.byteLength);\n",
              "  }\n",
              "\n",
              "  // All done.\n",
              "  yield {\n",
              "    response: {\n",
              "      action: 'complete',\n",
              "    }\n",
              "  };\n",
              "}\n",
              "\n",
              "scope.google = scope.google || {};\n",
              "scope.google.colab = scope.google.colab || {};\n",
              "scope.google.colab._files = {\n",
              "  _uploadFiles,\n",
              "  _uploadFilesContinue,\n",
              "};\n",
              "})(self);\n",
              "</script> "
            ]
          },
          "metadata": {}
        },
        {
          "output_type": "stream",
          "name": "stdout",
          "text": [
            "Saving 979-Texto del artículo (necesario)-4381-1-10-20170607.pdf to 979-Texto del artículo (necesario)-4381-1-10-20170607 (1).pdf\n"
          ]
        }
      ]
    },
    {
      "cell_type": "code",
      "source": [
        "file_name = list(uploaded.keys())[0]\n",
        "reader = PdfReader(file_name)\n",
        "pdf_text = \"\"\n",
        "for page in reader.pages:\n",
        "    pdf_text += page.extract_text()\n",
        "\n",
        "total_palabras = len(pdf_text.split())\n",
        "print(f\"El número total de palabras por SpaCy en el texto es: {total_palabras}\")"
      ],
      "metadata": {
        "colab": {
          "base_uri": "https://localhost:8080/"
        },
        "id": "OL4bpreifIrX",
        "outputId": "a9e3354e-3fdd-47a0-cef7-0859bc59ca4a"
      },
      "execution_count": null,
      "outputs": [
        {
          "output_type": "stream",
          "name": "stdout",
          "text": [
            "El número total de palabras por SpaCy en el texto es: 8011\n"
          ]
        }
      ]
    },
    {
      "cell_type": "code",
      "source": [
        "file_name = list(uploaded.keys())[0]\n",
        "reader = PdfReader(file_name)\n",
        "pdf_text = \"\"\n",
        "for page in reader.pages:\n",
        "    pdf_text += page.extract_text()"
      ],
      "metadata": {
        "id": "KxXTYdBoi5-H"
      },
      "execution_count": null,
      "outputs": []
    },
    {
      "cell_type": "code",
      "source": [
        "nlp = spacy.load(\"es_core_news_sm\")\n",
        "doc = nlp(pdf_text)"
      ],
      "metadata": {
        "id": "9TtzLcdDi8BG"
      },
      "execution_count": null,
      "outputs": []
    },
    {
      "cell_type": "code",
      "source": [
        "filtered_spacy_words = [token.text.lower() for token in doc if token.is_alpha and not token.is_stop]\n",
        "word_counts_spacy = Counter(filtered_spacy_words)"
      ],
      "metadata": {
        "id": "uAz8sawhjTVH"
      },
      "execution_count": null,
      "outputs": []
    },
    {
      "cell_type": "markdown",
      "source": [
        "**RESULATADOS GENERALES DEL CONTEO DE PALABRAS EN EL DOCUMENTO CON SPACY**"
      ],
      "metadata": {
        "id": "VK84i9F0ls7O"
      }
    },
    {
      "cell_type": "code",
      "source": [
        "print(\"Las 20 palabras más frecuentes son:\")\n",
        "for word, count in word_counts_spacy.most_common(20):\n",
        "    print(f\"{word}: {count}\")"
      ],
      "metadata": {
        "colab": {
          "base_uri": "https://localhost:8080/"
        },
        "id": "biz8fvwsjg92",
        "outputId": "d69f0ce0-3e18-48bb-d387-68d40bdb4049"
      },
      "execution_count": null,
      "outputs": [
        {
          "output_type": "stream",
          "name": "stdout",
          "text": [
            "Las 20 palabras más frecuentes son:\n",
            "métodos: 95\n",
            "investigación: 88\n",
            "análisis: 54\n",
            "estudios: 51\n",
            "técnicas: 48\n",
            "of: 47\n",
            "método: 42\n",
            "estudio: 36\n",
            "the: 36\n",
            "research: 36\n",
            "artículos: 34\n",
            "and: 32\n",
            "library: 30\n",
            "science: 29\n",
            "lis: 28\n",
            "utilizadas: 25\n",
            "nº: 24\n",
            "information: 23\n",
            "datos: 21\n",
            "tabla: 21\n"
          ]
        }
      ]
    },
    {
      "cell_type": "code",
      "source": [
        "top_words_spacy = word_counts_spacy.most_common(20)\n",
        "spacy_words = [(word, count) for word, count in top_words_spacy]"
      ],
      "metadata": {
        "id": "ubvOvjuInIL0"
      },
      "execution_count": null,
      "outputs": []
    },
    {
      "cell_type": "code",
      "source": [
        "reader = PdfReader(file_name)\n",
        "pdf_text = \"\"\n",
        "for page in reader.pages:\n",
        "    pdf_text += page.extract_text()"
      ],
      "metadata": {
        "id": "mWHlDjpAk_CO"
      },
      "execution_count": null,
      "outputs": []
    },
    {
      "cell_type": "code",
      "source": [
        "nlp = spacy.load(\"es_core_news_sm\")"
      ],
      "metadata": {
        "id": "4TRh3CuFlFbm"
      },
      "execution_count": null,
      "outputs": []
    },
    {
      "cell_type": "code",
      "source": [
        "stopwords = {\"de\", \"y\", \"en\", \"la\", \"los\", \"que\", \"el\", \"a\", \"se\", \"las\", \"un\",\n",
        "             \"por\", \"of\", \"del\", \"the\", \"una\", \"para\", \"con\", \"and\", \"o\",\n",
        "             \"otros\", \"lis\", \"lo\", \"es\", \"nº\", \"no\", \"como\", \"más\", \"vol\", \"al\",\n",
        "             \"in\", \"su\", \"entre\", \"library\", \"science\", \"peritz\", \"research\",\n",
        "             \"vakkari\"}"
      ],
      "metadata": {
        "id": "ihGZX5iLlHCm"
      },
      "execution_count": null,
      "outputs": []
    },
    {
      "cell_type": "code",
      "source": [
        "doc = nlp(pdf_text)"
      ],
      "metadata": {
        "id": "UQWB_tENlL22"
      },
      "execution_count": null,
      "outputs": []
    },
    {
      "cell_type": "code",
      "source": [
        "filtered_word_counts_spacy = [\n",
        "    token.text.lower() for token in doc\n",
        "    if token.is_alpha and token.text.lower() not in stopwords\n",
        "]"
      ],
      "metadata": {
        "id": "MVMDjTmwlO4e"
      },
      "execution_count": null,
      "outputs": []
    },
    {
      "cell_type": "code",
      "source": [
        "from collections import Counter\n",
        "\n",
        "word_counts_spacy = Counter(filtered_word_counts_spacy)"
      ],
      "metadata": {
        "id": "GkqdbVrNlSpG"
      },
      "execution_count": null,
      "outputs": []
    },
    {
      "cell_type": "code",
      "source": [
        "top_filtered_words_spacy = word_counts_spacy.most_common(20)"
      ],
      "metadata": {
        "id": "fbKR2SZJxjTL"
      },
      "execution_count": null,
      "outputs": []
    },
    {
      "cell_type": "markdown",
      "source": [
        "**PALABRAS IRRELEVANTES FILTRADAS EN PROCESAMIENTO DE LENGUAJE NATURAL CON SPACY**"
      ],
      "metadata": {
        "id": "UTaMJr4nlzF2"
      }
    },
    {
      "cell_type": "code",
      "source": [
        "print(\"Palabras filtradas más frecuentes con spaCy:\")\n",
        "for word, count in top_filtered_words_spacy:\n",
        "    print(f\"{word}: {count}\")"
      ],
      "metadata": {
        "colab": {
          "base_uri": "https://localhost:8080/"
        },
        "id": "2Zy8THaelWPO",
        "outputId": "d16446ce-576c-4243-de8a-340d63facd72"
      },
      "execution_count": null,
      "outputs": [
        {
          "output_type": "stream",
          "name": "stdout",
          "text": [
            "Palabras filtradas más frecuentes con spaCy:\n",
            "métodos: 95\n",
            "investigación: 88\n",
            "análisis: 54\n",
            "estudios: 51\n",
            "técnicas: 48\n",
            "método: 42\n",
            "estudio: 36\n",
            "artículos: 34\n",
            "utilizadas: 25\n",
            "information: 23\n",
            "datos: 21\n",
            "tabla: 21\n",
            "contenido: 19\n",
            "información: 17\n",
            "trabajos: 16\n",
            "histórico: 16\n",
            "encuesta: 16\n",
            "cantidad: 16\n",
            "tesis: 15\n",
            "científicos: 15\n"
          ]
        }
      ]
    },
    {
      "cell_type": "code",
      "source": [
        "filtered_spacy_words = [(word, count) for word, count in top_filtered_words_spacy]"
      ],
      "metadata": {
        "id": "SgPyEc6zy6ab"
      },
      "execution_count": null,
      "outputs": []
    },
    {
      "cell_type": "markdown",
      "source": [
        "**PROCESO DE ANALISIS ENTRE MODELOS PARA CONTEO DE PALABRAS (PYSPARK/SPACY)**"
      ],
      "metadata": {
        "id": "87qM3fXNl-zG"
      }
    },
    {
      "cell_type": "markdown",
      "source": [
        "Analisis de tablas con resultados generales"
      ],
      "metadata": {
        "id": "idYv8_1tohhj"
      }
    },
    {
      "cell_type": "code",
      "source": [
        "import pandas as pd"
      ],
      "metadata": {
        "id": "zhHvLugQoxJE"
      },
      "execution_count": null,
      "outputs": []
    },
    {
      "cell_type": "code",
      "source": [
        "df_general_pyspark = pd.DataFrame(top_words_pyspark, columns=['Palabra', 'Frecuencia_PySpark'])"
      ],
      "metadata": {
        "id": "uiHT-4mhic2E"
      },
      "execution_count": null,
      "outputs": []
    },
    {
      "cell_type": "code",
      "source": [
        "df_general_spacy = pd.DataFrame(top_words_spacy, columns=['Palabra', 'Frecuencia_SpaCy'])"
      ],
      "metadata": {
        "id": "kVuSO5CRo1IT"
      },
      "execution_count": null,
      "outputs": []
    },
    {
      "cell_type": "code",
      "source": [
        "palabras_comunes = set(df_general_pyspark['Palabra']).intersection(set(df_general_spacy['Palabra']))"
      ],
      "metadata": {
        "id": "x6AKfJP2pG6E"
      },
      "execution_count": null,
      "outputs": []
    },
    {
      "cell_type": "code",
      "source": [
        "df_comparacion_general = pd.merge(df_general_pyspark, df_general_spacy, on='Palabra', how='outer').fillna(0)\n",
        "\n",
        "df_comparacion_general['Frecuencia_PySpark'] = df_comparacion_general['Frecuencia_PySpark'].astype(int)\n",
        "df_comparacion_general['Frecuencia_SpaCy'] = df_comparacion_general['Frecuencia_SpaCy'].astype(int)\n",
        "\n",
        "print(\"Tabla comparativa de resultados generales:\")\n",
        "print(df_comparacion_general)"
      ],
      "metadata": {
        "colab": {
          "base_uri": "https://localhost:8080/"
        },
        "id": "s-AxMY0ypLXr",
        "outputId": "d780e15e-76c5-4ea8-9624-70aa5b091b10"
      },
      "execution_count": null,
      "outputs": [
        {
          "output_type": "stream",
          "name": "stdout",
          "text": [
            "Tabla comparativa de resultados generales:\n",
            "          Palabra  Frecuencia_PySpark  Frecuencia_SpaCy\n",
            "0               a                  75                 0\n",
            "1             and                   0                32\n",
            "2        análisis                  51                54\n",
            "3       artículos                   0                34\n",
            "4           datos                   0                21\n",
            "5              de                 537                 0\n",
            "6             del                  42                 0\n",
            "7              el                 119                 0\n",
            "8              en                 195                 0\n",
            "9         estudio                   0                36\n",
            "10       estudios                  51                51\n",
            "11    information                   0                23\n",
            "12  investigación                  87                88\n",
            "13             la                 191                 0\n",
            "14            las                  63                 0\n",
            "15        library                   0                30\n",
            "16            lis                   0                28\n",
            "17            los                 151                 0\n",
            "18         método                  41                42\n",
            "19        métodos                  93                95\n",
            "20             nº                   0                24\n",
            "21             of                  47                47\n",
            "22            por                  48                 0\n",
            "23            que                 127                 0\n",
            "24       research                   0                36\n",
            "25        science                   0                29\n",
            "26             se                  68                 0\n",
            "27          tabla                   0                21\n",
            "28            the                   0                36\n",
            "29       técnicas                  47                48\n",
            "30             un                  61                 0\n",
            "31     utilizadas                   0                25\n",
            "32              y                 199                 0\n"
          ]
        }
      ]
    },
    {
      "cell_type": "markdown",
      "source": [
        "METRICAS DE SIMILITUD"
      ],
      "metadata": {
        "id": "bMnu7wclpmcj"
      }
    },
    {
      "cell_type": "markdown",
      "source": [
        "Coeficiente de Jaccard:"
      ],
      "metadata": {
        "id": "yWLwG-gOpapT"
      }
    },
    {
      "cell_type": "code",
      "source": [
        "union = len(set(df_general_pyspark['Palabra']).union(set(df_general_spacy['Palabra'])))\n",
        "intersection = len(palabras_comunes)\n",
        "jaccard_coefficient = intersection / union\n",
        "print(f\"Coeficiente de Jaccard: {jaccard_coefficient:.2f}\")"
      ],
      "metadata": {
        "colab": {
          "base_uri": "https://localhost:8080/"
        },
        "id": "66zoiAxFpV7F",
        "outputId": "c6aef689-e9e6-4ac4-b556-aba15c7397a4"
      },
      "execution_count": null,
      "outputs": [
        {
          "output_type": "stream",
          "name": "stdout",
          "text": [
            "Coeficiente de Jaccard: 0.21\n"
          ]
        }
      ]
    },
    {
      "cell_type": "markdown",
      "source": [
        "El coeficiente de Jaccard indica una baja similitud entre los conjuntos de palabras detectadas por PySpark y spaCy. Esto implica que ambas herramientas identificaron mayormente palabras diferentes entre las más frecuentes."
      ],
      "metadata": {
        "id": "BpyO4aGiqJmz"
      }
    },
    {
      "cell_type": "markdown",
      "source": [
        "Correlación de Spearman"
      ],
      "metadata": {
        "id": "kiIV_EkrpxbO"
      }
    },
    {
      "cell_type": "code",
      "source": [
        "from scipy.stats import spearmanr"
      ],
      "metadata": {
        "id": "ujOLWq3vpvPz"
      },
      "execution_count": null,
      "outputs": []
    },
    {
      "cell_type": "code",
      "source": [
        "df_comunes = df_comparacion_general[df_comparacion_general['Palabra'].isin(palabras_comunes)]\n",
        "\n",
        "spearman_corr, _ = spearmanr(df_comunes['Frecuencia_PySpark'], df_comunes['Frecuencia_SpaCy'])\n",
        "print(f\"Correlación de Spearman: {spearman_corr:.2f}\")"
      ],
      "metadata": {
        "colab": {
          "base_uri": "https://localhost:8080/"
        },
        "id": "16rHsPbNp19s",
        "outputId": "f4618ab9-81a1-499d-a3a7-9e4317629b0d"
      },
      "execution_count": null,
      "outputs": [
        {
          "output_type": "stream",
          "name": "stdout",
          "text": [
            "Correlación de Spearman: 0.98\n"
          ]
        }
      ]
    },
    {
      "cell_type": "markdown",
      "source": [
        "Una correlación de Spearman alta (cercana a 1) muestra que, para las palabras comunes detectadas por ambas herramientas, las frecuencias tienen un comportamiento muy similar. Es decir, aunque el conjunto de palabras no coincide mucho (baja similitud), las herramientas coinciden en la importancia relativa de las palabras comunes."
      ],
      "metadata": {
        "id": "mmpMNE_jqQsy"
      }
    },
    {
      "cell_type": "markdown",
      "source": [
        "Visualización"
      ],
      "metadata": {
        "id": "vzd-fPq6qdo0"
      }
    },
    {
      "cell_type": "code",
      "source": [
        "import numpy as np\n",
        "import matplotlib.pyplot as plt"
      ],
      "metadata": {
        "id": "ZF8KOyCsqdBi"
      },
      "execution_count": null,
      "outputs": []
    },
    {
      "cell_type": "code",
      "source": [
        "x = np.arange(len(df_comunes['Palabra']))\n",
        "width = 0.35\n",
        "\n",
        "plt.figure(figsize=(10, 6))\n",
        "\n",
        "plt.bar(x - width/2, df_comunes['Frecuencia_PySpark'], width, label='PySpark', color='blue', alpha=0.7)\n",
        "plt.bar(x + width/2, df_comunes['Frecuencia_SpaCy'], width, label='spaCy', color='orange', alpha=0.7)\n",
        "\n",
        "plt.xlabel('Palabras')\n",
        "plt.ylabel('Frecuencia')\n",
        "plt.title('Comparación de Frecuencias entre PySpark y spaCy')\n",
        "plt.xticks(x, df_comunes['Palabra'], rotation=45)\n",
        "plt.legend()\n",
        "\n",
        "plt.show()"
      ],
      "metadata": {
        "colab": {
          "base_uri": "https://localhost:8080/",
          "height": 626
        },
        "id": "r7Yz16IT0OvR",
        "outputId": "c44147f6-f922-41fe-fd06-1516491dffb9"
      },
      "execution_count": null,
      "outputs": [
        {
          "output_type": "display_data",
          "data": {
            "text/plain": [
              "<Figure size 1000x600 with 1 Axes>"
            ],
            "image/png": "[encoded data removed]"
          },
          "metadata": {}
        }
      ]
    },
    {
      "cell_type": "markdown",
      "source": [
        "Interpretación General"
      ],
      "metadata": {
        "id": "5_sT_rgLqS5z"
      }
    },
    {
      "cell_type": "markdown",
      "source": [
        "En la gráfica se pueden observar las palabras que están relacionadas entre el análisis realizado por PySpark y SpaCy\n",
        "\n",
        "Diferencias entre herramientas: PySpark y spaCy son herramientas diseñadas para diferentes propósitos:\n",
        "- PySpark: Más eficiente para manejar grandes volúmenes de datos, pero menos específico para tareas NLP detalladas.\n",
        "- spaCy: Especializado en NLP, con capacidades avanzadas para filtrar stopwords y tokenizar texto de forma precisa."
      ],
      "metadata": {
        "id": "g2Wl-eZkrJr2"
      }
    },
    {
      "cell_type": "markdown",
      "source": [
        "**PROCESO DE ANALISIS ENTRE MODELOS PARA CONTEO DE PALABRAS FILTRADAS (PYSPARK/SPACY)**"
      ],
      "metadata": {
        "id": "QFMaHwE1rPR0"
      }
    },
    {
      "cell_type": "markdown",
      "source": [
        "Analisis de tablas con resultados generales"
      ],
      "metadata": {
        "id": "bVbmptV9rx_t"
      }
    },
    {
      "cell_type": "code",
      "source": [
        "filtered_pyspark_words = [(word.strip().lower(), count) for word, count in filtered_pyspark_words]\n",
        "filtered_spacy_words = [(word.strip().lower(), count) for word, count in filtered_spacy_words]"
      ],
      "metadata": {
        "id": "1m6k7jHHr3Hq"
      },
      "execution_count": null,
      "outputs": []
    },
    {
      "cell_type": "code",
      "source": [
        "df_filtered_pyspark = pd.DataFrame(filtered_pyspark_words, columns=['Palabra', 'Frecuencia_Filtrada_PySpark'])\n",
        "df_filtered_spacy = pd.DataFrame(filtered_spacy_words, columns=['Palabra', 'Frecuencia_Filtrada_SpaCy'])"
      ],
      "metadata": {
        "id": "IltNia86sh8L"
      },
      "execution_count": null,
      "outputs": []
    },
    {
      "cell_type": "code",
      "source": [
        "df_comparacion_filtrada = pd.merge(df_filtered_pyspark, df_filtered_spacy, on='Palabra', how='outer').fillna(0)"
      ],
      "metadata": {
        "id": "2zvjW5ausmZ7"
      },
      "execution_count": null,
      "outputs": []
    },
    {
      "cell_type": "code",
      "source": [
        "df_comparacion_filtrada['Frecuencia_Filtrada_PySpark'] = df_comparacion_filtrada['Frecuencia_Filtrada_PySpark'].astype(int)\n",
        "df_comparacion_filtrada['Frecuencia_Filtrada_SpaCy'] = df_comparacion_filtrada['Frecuencia_Filtrada_SpaCy'].astype(int)"
      ],
      "metadata": {
        "id": "xN2QPkeJujqa"
      },
      "execution_count": null,
      "outputs": []
    },
    {
      "cell_type": "code",
      "source": [
        "print(\"Tabla comparativa de palabras filtradas:\")\n",
        "print(df_comparacion_filtrada)"
      ],
      "metadata": {
        "colab": {
          "base_uri": "https://localhost:8080/"
        },
        "id": "gE-hknGUspo7",
        "outputId": "d87e05bf-5924-4ab2-84b8-7ca2e3573c92"
      },
      "execution_count": null,
      "outputs": [
        {
          "output_type": "stream",
          "name": "stdout",
          "text": [
            "Tabla comparativa de palabras filtradas:\n",
            "          Palabra  Frecuencia_Filtrada_PySpark  Frecuencia_Filtrada_SpaCy\n",
            "0        análisis                           51                         54\n",
            "1       artículos                           33                         34\n",
            "2        cantidad                           16                         16\n",
            "3     científicos                           15                         15\n",
            "4       contenido                           19                         19\n",
            "5           datos                           21                         21\n",
            "6        encuesta                           15                         16\n",
            "7       encuestas                           15                          0\n",
            "8         estudio                           36                         36\n",
            "9        estudios                           51                         51\n",
            "10      histórico                            0                         16\n",
            "11    información                           16                         17\n",
            "12    information                           23                         23\n",
            "13  investigación                           87                         88\n",
            "14         método                           41                         42\n",
            "15        métodos                           93                         95\n",
            "16          tabla                           20                         21\n",
            "17          tesis                           15                         15\n",
            "18       trabajos                           16                         16\n",
            "19       técnicas                           47                         48\n",
            "20     utilizadas                           25                         25\n"
          ]
        }
      ]
    },
    {
      "cell_type": "markdown",
      "source": [
        "METRICAS DE SIMILITUD"
      ],
      "metadata": {
        "id": "K0oc47D_s5WN"
      }
    },
    {
      "cell_type": "markdown",
      "source": [
        "Coeficiente de Jaccard:"
      ],
      "metadata": {
        "id": "U32oa6-Zs-sy"
      }
    },
    {
      "cell_type": "code",
      "source": [
        "palabras_comunes_filtradas = set(df_filtered_pyspark['Palabra']).intersection(set(df_filtered_spacy['Palabra']))\n",
        "union_filtradas = len(set(df_filtered_pyspark['Palabra']).union(set(df_filtered_spacy['Palabra'])))\n",
        "intersection_filtradas = len(palabras_comunes_filtradas)\n",
        "jaccard_coefficient_filtradas = intersection_filtradas / union_filtradas\n",
        "print(f\"Coeficiente de Jaccard (palabras filtradas): {jaccard_coefficient_filtradas:.2f}\")"
      ],
      "metadata": {
        "colab": {
          "base_uri": "https://localhost:8080/"
        },
        "id": "7H_trSI2tRW1",
        "outputId": "cbab1cc0-3a18-4974-9cb5-bfd074175e51"
      },
      "execution_count": null,
      "outputs": [
        {
          "output_type": "stream",
          "name": "stdout",
          "text": [
            "Coeficiente de Jaccard (palabras filtradas): 0.90\n"
          ]
        }
      ]
    },
    {
      "cell_type": "markdown",
      "source": [
        "Este alto valor indica que existe una gran superposición entre los conjuntos de palabras relevantes identificadas por PySpark y spaCy después de aplicar el filtrado."
      ],
      "metadata": {
        "id": "K1-fH6wctR_E"
      }
    },
    {
      "cell_type": "markdown",
      "source": [
        "Correlación de Spearman"
      ],
      "metadata": {
        "id": "XhYQL1q1s-T6"
      }
    },
    {
      "cell_type": "code",
      "source": [
        "df_comunes_filtradas = df_comparacion_filtrada[df_comparacion_filtrada['Palabra'].isin(palabras_comunes_filtradas)]\n",
        "\n",
        "spearman_corr_filtradas, _ = spearmanr(df_comunes_filtradas['Frecuencia_Filtrada_PySpark'], df_comunes_filtradas['Frecuencia_Filtrada_SpaCy'])\n",
        "print(f\"Correlación de Spearman (palabras filtradas): {spearman_corr_filtradas:.2f}\")"
      ],
      "metadata": {
        "colab": {
          "base_uri": "https://localhost:8080/"
        },
        "id": "qmT0baHotdOy",
        "outputId": "ee41096c-2b1e-4b18-ec26-14bef45867d7"
      },
      "execution_count": null,
      "outputs": [
        {
          "output_type": "stream",
          "name": "stdout",
          "text": [
            "Correlación de Spearman (palabras filtradas): 0.99\n"
          ]
        }
      ]
    },
    {
      "cell_type": "markdown",
      "source": [
        "La correlación perfecta entre las frecuencias de las palabras comunes refleja que la importancia relativa de las palabras (es decir, cuán frecuentes son) es idéntica entre PySpark y spaCy."
      ],
      "metadata": {
        "id": "M5xFGAh7zXlx"
      }
    },
    {
      "cell_type": "markdown",
      "source": [],
      "metadata": {
        "id": "tEGopUoLza-L"
      }
    },
    {
      "cell_type": "code",
      "source": [
        "x = np.arange(len(df_comunes_filtradas['Palabra']))\n",
        "width = 0.35\n",
        "\n",
        "plt.figure(figsize=(10, 6))\n",
        "\n",
        "plt.bar(x - width/2, df_comunes_filtradas['Frecuencia_Filtrada_PySpark'], width, label='PySpark', color='blue', alpha=0.7)\n",
        "plt.bar(x + width/2, df_comunes_filtradas['Frecuencia_Filtrada_SpaCy'], width, label='spaCy', color='orange', alpha=0.7)\n",
        "\n",
        "plt.xlabel('Palabras')\n",
        "plt.ylabel('Frecuencia')\n",
        "plt.title('Comparación de Frecuencias Filtradas entre PySpark y spaCy')\n",
        "plt.xticks(x, df_comunes_filtradas['Palabra'], rotation=45)\n",
        "plt.legend()\n",
        "\n",
        "plt.show()"
      ],
      "metadata": {
        "colab": {
          "base_uri": "https://localhost:8080/",
          "height": 626
        },
        "collapsed": true,
        "id": "ui-dmpnAzrDj",
        "outputId": "b09ad068-9457-47b5-c02c-49f0a1443c59"
      },
      "execution_count": null,
      "outputs": [
        {
          "output_type": "display_data",
          "data": {
            "text/plain": [
              "<Figure size 1000x600 with 1 Axes>"
            ],
            "image/png": "[encoded data removed]"
          },
          "metadata": {}
        }
      ]
    },
    {
      "cell_type": "markdown",
      "source": [
        "La similitud en las palabras detectadas (Jaccard = 0.90) y la perfecta correlación de las frecuencias (Spearman = 1.00) sugieren que tanto PySpark como spaCy pueden ser usados de manera complementaria.\n",
        "Esto es útil en análisis donde se necesite combinar escalabilidad y precisión en el procesamiento de texto.\n",
        "\n",
        "Las métricas indican que el proceso de eliminación de stopwords y el filtrado adicional se implementaron correctamente, lo que resultó en conjuntos relevantes de palabras clave."
      ],
      "metadata": {
        "id": "i42tSpSJ19Xh"
      }
    }
  ]
}